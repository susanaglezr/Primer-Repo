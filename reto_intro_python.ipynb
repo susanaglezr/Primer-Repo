{
  "cells": [
    {
      "cell_type": "markdown",
      "metadata": {
        "id": "ms9SLG9zRMi5"
      },
      "source": [
        "Crear las siguientes variables.\n",
        "\n",
        "* Una variable donde asignes el nombre de una película\n",
        "* Una variable que contenga los primeros 4 decimales de PI\n",
        "* Una variable que contenga la cantidad de mascotas que tienes"
      ]
    },
    {
      "cell_type": "code",
      "execution_count": 1,
      "metadata": {
        "id": "HXryfKdpRsvT"
      },
      "outputs": [],
      "source": [
        "pelicula = \"Inception\""
      ]
    },
    {
      "cell_type": "code",
      "execution_count": 2,
      "metadata": {
        "id": "Da31UjXVRtBB"
      },
      "outputs": [],
      "source": [
        "pi = 3.1416"
      ]
    },
    {
      "cell_type": "code",
      "execution_count": 3,
      "metadata": {
        "id": "sFe9d8k7RtUj"
      },
      "outputs": [],
      "source": [
        "mascotas = 14"
      ]
    },
    {
      "cell_type": "markdown",
      "metadata": {
        "id": "tZBN5IO_SoFr"
      },
      "source": [
        "Imprime los siguientes mensajes utilizando format de tal manera que el resultado sea parecido a lo siguiente:\n",
        "\n",
        "```bash\n",
        "La película que elegi es Harry Potter\n",
        "````\n",
        "\n",
        "```bash\n",
        "El valor de pi es 3.1416\n",
        "````\n",
        "\n",
        "```bash\n",
        "La cantidad de mascotas que tengo son 2\n",
        "````"
      ]
    },
    {
      "cell_type": "code",
      "execution_count": 4,
      "metadata": {
        "id": "EJfQXm6mSpGQ"
      },
      "outputs": [
        {
          "name": "stdout",
          "output_type": "stream",
          "text": [
            "La película que elegí es Inception\n"
          ]
        }
      ],
      "source": [
        "print(\"La película que elegí es {}\".format(pelicula))"
      ]
    },
    {
      "cell_type": "code",
      "execution_count": 5,
      "metadata": {
        "id": "VVVGZruXSpSg"
      },
      "outputs": [
        {
          "name": "stdout",
          "output_type": "stream",
          "text": [
            "El valor de pi es 3.1416\n"
          ]
        }
      ],
      "source": [
        "print(\"El valor de pi es {}\".format(pi))"
      ]
    },
    {
      "cell_type": "code",
      "execution_count": 6,
      "metadata": {
        "id": "ZvJiioi3SpjL"
      },
      "outputs": [
        {
          "name": "stdout",
          "output_type": "stream",
          "text": [
            "La cantidad de mascotas que tengo son 14\n"
          ]
        }
      ],
      "source": [
        "print(\"La cantidad de mascotas que tengo son {}\".format(mascotas))"
      ]
    },
    {
      "cell_type": "markdown",
      "metadata": {
        "id": "qff5RNf_Sxvy"
      },
      "source": [
        "Crea una tabla utilizando f strings donde salgan 3 empleos aleatorios, sus respectivos sueldos y el país donde radican."
      ]
    },
    {
      "cell_type": "code",
      "execution_count": 10,
      "metadata": {
        "id": "uX7iBO31Td2G"
      },
      "outputs": [],
      "source": [
        "empleo1 = \"Bombero\"\n",
        "empleo2 = \"Profesora\"\n",
        "empleo3 = \"Músico\"\n",
        "\n",
        "sueldo1 = \"15K\"\n",
        "sueldo2 = \"20K\"\n",
        "sueldo3 = \"12K\"\n",
        "\n",
        "pais1 = \"USA\"\n",
        "pais2 = \"México\"\n",
        "pais3 = \"Canada\""
      ]
    },
    {
      "cell_type": "code",
      "execution_count": 15,
      "metadata": {},
      "outputs": [
        {
          "name": "stdout",
          "output_type": "stream",
          "text": [
            "Bombero     |15K  |USA\n",
            "Profesora   |20K  |México\n",
            "Músico      |12K  |Canada\n"
          ]
        }
      ],
      "source": [
        "print(f\"{empleo1:12}|{sueldo1:5}|{pais1}\")\n",
        "print(f\"{empleo2:12}|{sueldo2:5}|{pais2}\")\n",
        "print(f\"{empleo3:12}|{sueldo3:5}|{pais3}\")"
      ]
    },
    {
      "cell_type": "markdown",
      "metadata": {
        "id": "yWqnOS4OQxQH"
      },
      "source": [
        "Desarrolla un programa donde pida 2 números y devuelva la suma, resta, multiplicación y división de los mismos."
      ]
    },
    {
      "cell_type": "code",
      "execution_count": 16,
      "metadata": {},
      "outputs": [],
      "source": [
        "numero1 = float(input(\"Ingresa un número: \"))\n",
        "numero2 = float(input(\"Ingresa un número: \"))"
      ]
    },
    {
      "cell_type": "code",
      "execution_count": 17,
      "metadata": {
        "id": "VcfmeoFZQqZz"
      },
      "outputs": [
        {
          "name": "stdout",
          "output_type": "stream",
          "text": [
            "8.0\n",
            "-2.0\n",
            "15.0\n",
            "0.6\n"
          ]
        }
      ],
      "source": [
        "print(numero1 + numero2)\n",
        "print(numero1 - numero2)\n",
        "print(numero1 * numero2)\n",
        "print(numero1 / numero2)"
      ]
    },
    {
      "cell_type": "markdown",
      "metadata": {
        "id": "n6_bQXdhT4l-"
      },
      "source": [
        "Crea una lista con 4 colores y despues ejecuta las siguientes lineas de código:"
      ]
    },
    {
      "cell_type": "code",
      "execution_count": 25,
      "metadata": {
        "id": "Zh8H7yfbT9iI"
      },
      "outputs": [],
      "source": [
        "colores = [\"Azul\", \"Rojo\",\"Blanco\",\"Naranja\"]"
      ]
    },
    {
      "cell_type": "code",
      "execution_count": 26,
      "metadata": {
        "id": "ook1SGxxT-1j"
      },
      "outputs": [
        {
          "name": "stdout",
          "output_type": "stream",
          "text": [
            "El color 0 es Azul\n",
            "El color 1 es Rojo\n",
            "El color 2 es Blanco\n",
            "El color 3 es Naranja\n"
          ]
        }
      ],
      "source": [
        "print(f\"El color 0 es {colores[0]}\")\n",
        "print(f\"El color 1 es {colores[1]}\")\n",
        "print(f\"El color 2 es {colores[2]}\")\n",
        "print(f\"El color 3 es {colores[3]}\")"
      ]
    },
    {
      "cell_type": "markdown",
      "metadata": {
        "id": "Nes2H1VBUOb-"
      },
      "source": [
        "Crea una lista con 4 ciudades y utilizando Slice, que aparezcan las 2 de enmedio"
      ]
    },
    {
      "cell_type": "code",
      "execution_count": 27,
      "metadata": {
        "id": "h9Lpky2pUVbu"
      },
      "outputs": [],
      "source": [
        "ciudades = [\"New York\", \"Monterrey\", \"Guadalajara\", \"CDMX\"]\n"
      ]
    },
    {
      "cell_type": "markdown",
      "metadata": {
        "id": "KZRc8KrtUIXs"
      },
      "source": [
        "De nuestra lista de ciudades, imprime la ultima ciudad"
      ]
    },
    {
      "cell_type": "code",
      "execution_count": 28,
      "metadata": {
        "id": "w4Iu12l6UZc0"
      },
      "outputs": [
        {
          "name": "stdout",
          "output_type": "stream",
          "text": [
            "['Monterrey', 'Guadalajara']\n"
          ]
        }
      ],
      "source": [
        "print(ciudades[1:3])"
      ]
    },
    {
      "cell_type": "markdown",
      "metadata": {
        "id": "tm1WmrjoWX9g"
      },
      "source": [
        "Agrega los siguientes datos a tu lista de colores: \"Morado\", \"Rosa\""
      ]
    },
    {
      "cell_type": "code",
      "execution_count": 29,
      "metadata": {
        "id": "59n7yhbRWgda"
      },
      "outputs": [],
      "source": [
        "colores.append(\"Morado\")\n",
        "colores.append(\"Rosa\")"
      ]
    },
    {
      "cell_type": "code",
      "execution_count": 30,
      "metadata": {
        "id": "o6VX6k7HWg2r"
      },
      "outputs": [
        {
          "data": {
            "text/plain": [
              "['Azul', 'Rojo', 'Blanco', 'Naranja', 'Morado', 'Rosa']"
            ]
          },
          "execution_count": 30,
          "metadata": {},
          "output_type": "execute_result"
        }
      ],
      "source": [
        "colores"
      ]
    },
    {
      "cell_type": "markdown",
      "metadata": {
        "id": "raJtwSsMXObz"
      },
      "source": [
        "La siguiente lista contiene las alturas de 15 niños de cuarto grado, sacr el promedio de alturas."
      ]
    },
    {
      "cell_type": "code",
      "execution_count": 32,
      "metadata": {
        "id": "RBHJnt7RXVfn"
      },
      "outputs": [],
      "source": [
        "alturas = [1.35, 1.56, 1.42, 1.22, 1.37, 1.23, 1.40, 1.25, 1.22, 1.37, 1.30, 1.15, 1.24, 1.31, 1.17]"
      ]
    },
    {
      "cell_type": "code",
      "execution_count": 33,
      "metadata": {
        "id": "OMwiQWdPXs0D"
      },
      "outputs": [],
      "source": [
        "promedio = sum(alturas)/len(alturas)"
      ]
    },
    {
      "cell_type": "code",
      "execution_count": 34,
      "metadata": {},
      "outputs": [
        {
          "data": {
            "text/plain": [
              "1.304"
            ]
          },
          "execution_count": 34,
          "metadata": {},
          "output_type": "execute_result"
        }
      ],
      "source": [
        "promedio"
      ]
    },
    {
      "cell_type": "markdown",
      "metadata": {
        "id": "gnmvV-6CXtFf"
      },
      "source": [
        "Obten la altura mas chica del grupo"
      ]
    },
    {
      "cell_type": "code",
      "execution_count": 35,
      "metadata": {
        "id": "6_vnauWrXxxw"
      },
      "outputs": [
        {
          "data": {
            "text/plain": [
              "1.15"
            ]
          },
          "execution_count": 35,
          "metadata": {},
          "output_type": "execute_result"
        }
      ],
      "source": [
        "min(alturas)"
      ]
    },
    {
      "cell_type": "markdown",
      "metadata": {
        "id": "QA4QhB1RXyIP"
      },
      "source": [
        "Obten la altura más alta del grupo"
      ]
    },
    {
      "cell_type": "code",
      "execution_count": 36,
      "metadata": {
        "id": "zaEh5073X0Ef"
      },
      "outputs": [
        {
          "data": {
            "text/plain": [
              "1.56"
            ]
          },
          "execution_count": 36,
          "metadata": {},
          "output_type": "execute_result"
        }
      ],
      "source": [
        "max(alturas)"
      ]
    },
    {
      "cell_type": "markdown",
      "metadata": {
        "id": "PEOwRkHPZP-h"
      },
      "source": [
        "Crea un diccionario de perros, donde lleva 2 claves: Nombre y Raza"
      ]
    },
    {
      "cell_type": "code",
      "execution_count": 37,
      "metadata": {
        "id": "NbaNatoIa3M8"
      },
      "outputs": [],
      "source": [
        "perros = {\"Nombre\": \"Lucky\", \"Raza\": \"Cocker spaniel\"}"
      ]
    },
    {
      "cell_type": "code",
      "execution_count": 38,
      "metadata": {
        "id": "x5K1wxDha3mu"
      },
      "outputs": [
        {
          "name": "stdout",
          "output_type": "stream",
          "text": [
            "{'Nombre': 'Lucky', 'Raza': 'Cocker spaniel'}\n"
          ]
        }
      ],
      "source": [
        "print(perros)"
      ]
    },
    {
      "cell_type": "markdown",
      "metadata": {
        "id": "8uUUKwjxbBs9"
      },
      "source": [
        "Agrega una clave llamada Edad a nuestro diccionario y asignale un valor"
      ]
    },
    {
      "cell_type": "code",
      "execution_count": 39,
      "metadata": {
        "id": "fCCGf6WUbAWb"
      },
      "outputs": [],
      "source": [
        "perros[\"Edad\"] = 9"
      ]
    },
    {
      "cell_type": "markdown",
      "metadata": {
        "id": "dlUIMAntbIer"
      },
      "source": [
        "Crea 2 diccionarios de perro más incluyendo el valor edad."
      ]
    },
    {
      "cell_type": "code",
      "execution_count": 40,
      "metadata": {
        "id": "1TgwcD9tbHDx"
      },
      "outputs": [],
      "source": [
        "perros2 = {\"Nombre\": \"Bobby\", \"Raza\": \"Labrador\", \"Edad\": 4}"
      ]
    },
    {
      "cell_type": "code",
      "execution_count": 41,
      "metadata": {
        "id": "ubSDomr3bOxp"
      },
      "outputs": [],
      "source": [
        "perros3 = {\"Nombre\": \"Pequeña\", \"Raza\": \"Chihuahua\", \"Edad\": 1}"
      ]
    },
    {
      "cell_type": "markdown",
      "metadata": {
        "id": "htGYP7tdbUQh"
      },
      "source": [
        "Crea una lista llamada mascotas y dentro de los corchetes, agrega los 3 diccionarios"
      ]
    },
    {
      "cell_type": "code",
      "execution_count": 42,
      "metadata": {
        "id": "nc2LaxGYbPDG"
      },
      "outputs": [],
      "source": [
        "mascotas = [perros, perros2, perros3]"
      ]
    },
    {
      "cell_type": "code",
      "execution_count": 43,
      "metadata": {},
      "outputs": [
        {
          "data": {
            "text/plain": [
              "[{'Nombre': 'Lucky', 'Raza': 'Cocker spaniel', 'Edad': 9},\n",
              " {'Nombre': 'Bobby', 'Raza': 'Labrador', 'Edad': 4},\n",
              " {'Nombre': 'Pequeña', 'Raza': 'Chihuahua', 'Edad': 1}]"
            ]
          },
          "execution_count": 43,
          "metadata": {},
          "output_type": "execute_result"
        }
      ],
      "source": [
        "mascotas"
      ]
    }
  ],
  "metadata": {
    "colab": {
      "name": "reto-intro-python.ipynb",
      "provenance": []
    },
    "kernelspec": {
      "display_name": "Python 3",
      "name": "python3"
    },
    "language_info": {
      "codemirror_mode": {
        "name": "ipython",
        "version": 3
      },
      "file_extension": ".py",
      "mimetype": "text/x-python",
      "name": "python",
      "nbconvert_exporter": "python",
      "pygments_lexer": "ipython3",
      "version": "3.9.7"
    }
  },
  "nbformat": 4,
  "nbformat_minor": 0
}
